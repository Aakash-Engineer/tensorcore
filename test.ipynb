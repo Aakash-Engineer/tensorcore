{
 "cells": [
  {
   "cell_type": "code",
   "execution_count": 1,
   "metadata": {},
   "outputs": [
    {
     "name": "stdout",
     "output_type": "stream",
     "text": [
      "e:\\Github repositories\\tensorcore\\src\\tensorcore\n"
     ]
    }
   ],
   "source": [
    "%cd src/tensorcore/"
   ]
  },
  {
   "cell_type": "code",
   "execution_count": 1,
   "metadata": {},
   "outputs": [
    {
     "data": {
      "text/plain": [
       "<module 'tensorcore.nn' from 'e:\\\\github repositories\\\\tensorcore\\\\src\\\\tensorcore\\\\nn.py'>"
      ]
     },
     "execution_count": 1,
     "metadata": {},
     "output_type": "execute_result"
    }
   ],
   "source": [
    "import importlib\n",
    "import tensorcore.nn\n",
    "\n",
    "importlib.reload(tensorcore.nn)  # Reload the module"
   ]
  },
  {
   "cell_type": "code",
   "execution_count": 2,
   "metadata": {},
   "outputs": [],
   "source": [
    "import numpy as np\n",
    "import tensorcore as tc\n",
    "from tensorcore import Tensor\n",
    "from tensorcore import nn, optim\n",
    "from tensorcore.optim import SGD\n",
    "from sklearn.datasets import make_moons\n",
    "from sklearn.model_selection import train_test_split\n",
    "from sklearn.datasets import load_breast_cancer\n",
    "from tensorcore.nn import sigmoid"
   ]
  },
  {
   "cell_type": "code",
   "execution_count": 3,
   "metadata": {},
   "outputs": [],
   "source": [
    "# generate a binary classification data\n",
    "X, y = make_moons(n_samples=1000, noise=0.1, random_state=0)\n",
    "X_train, X_test, y_train, y_test = train_test_split(X, y, test_size=0.2, random_state=0)\n",
    "\n",
    "# convert to tensor\n",
    "X_train = Tensor(X_train)\n",
    "X_test = Tensor(X_test)\n",
    "y_train = Tensor(y_train)\n",
    "y_test = Tensor(y_test)"
   ]
  },
  {
   "cell_type": "code",
   "execution_count": 4,
   "metadata": {},
   "outputs": [
    {
     "data": {
      "text/plain": [
       "((800, 2), (800,), (200, 2), (200,))"
      ]
     },
     "execution_count": 4,
     "metadata": {},
     "output_type": "execute_result"
    }
   ],
   "source": [
    "X_train.shape, y_train.shape, X_test.shape, y_test.shape"
   ]
  },
  {
   "cell_type": "code",
   "execution_count": 9,
   "metadata": {},
   "outputs": [],
   "source": [
    "model = tc.Sequential([\n",
    "    nn.Linear(2, 4),\n",
    "    nn.Linear(4, 1)\n",
    "])\n",
    "\n",
    "optimizer = optim.SGD(model.parameters(), lr=0.001)"
   ]
  },
  {
   "cell_type": "code",
   "execution_count": 10,
   "metadata": {},
   "outputs": [
    {
     "name": "stdout",
     "output_type": "stream",
     "text": [
      "step:    0 | loss: Tensor(0.9714155793190002)\n",
      "step:  100 | loss: Tensor(0.9676927328109741)\n",
      "step:  200 | loss: Tensor(0.9639987945556641)\n",
      "step:  300 | loss: Tensor(0.9603337049484253)\n",
      "step:  400 | loss: Tensor(0.9566975235939026)\n",
      "step:  500 | loss: Tensor(0.9530899524688721)\n",
      "step:  600 | loss: Tensor(0.9495111107826233)\n",
      "step:  700 | loss: Tensor(0.9459604024887085)\n",
      "step:  800 | loss: Tensor(0.9424375295639038)\n",
      "step:  900 | loss: Tensor(0.9389421343803406)\n"
     ]
    }
   ],
   "source": [
    "batch_size = 32\n",
    "learning_rate = 0.01\n",
    "max_iter = 1000\n",
    "eval_interval = 100\n",
    "\n",
    "for step in range(max_iter):\n",
    "    optimizer.zero_grad()\n",
    "    logits = model(X_train)                            #     ;print(logits.shape)\n",
    "    logits = nn.sigmoid(logits)                       #;print(logits.shape)\n",
    "    loss = nn.binary_cross_entropy(y_train, logits[:, -1])  #;print(loss.grad)\n",
    "    loss.backward()\n",
    "    optimizer.step()\n",
    "    if step % eval_interval == 0:\n",
    "        print(f\"step: {step: 4} | loss: {loss}\")"
   ]
  },
  {
   "cell_type": "code",
   "execution_count": 81,
   "metadata": {},
   "outputs": [
    {
     "name": "stdout",
     "output_type": "stream",
     "text": [
      "[[0. 0. 0. 0.]\n",
      " [0. 0. 0. 0.]]\n",
      "Tensor([[0.5148692  0.12795998 0.6260304  0.6575927 ]\n",
      " [0.6508005  0.6033222  0.15743825 0.329808  ]])\n"
     ]
    }
   ],
   "source": [
    "# print before\n",
    "print(model.layer_list[0].weight.grad)\n",
    "print(model.parameters()['layer_0'][0])"
   ]
  },
  {
   "cell_type": "code",
   "execution_count": 86,
   "metadata": {},
   "outputs": [
    {
     "name": "stdout",
     "output_type": "stream",
     "text": [
      "[[22.47837  28.399628 37.08718  26.312988]\n",
      " [16.238914 20.516567 26.792667 19.009132]]\n",
      "Tensor([[0.51037556 0.12230328 0.6186433  0.6523403 ]\n",
      " [0.64754015 0.5992181  0.15207867 0.32599717]])\n"
     ]
    }
   ],
   "source": [
    "# print after\n",
    "print(model.layer_list[0].weight.grad)\n",
    "print(model.parameters()['layer_0'][0])"
   ]
  },
  {
   "cell_type": "code",
   "execution_count": null,
   "metadata": {},
   "outputs": [],
   "source": []
  }
 ],
 "metadata": {
  "kernelspec": {
   "display_name": "tcore",
   "language": "python",
   "name": "python3"
  },
  "language_info": {
   "codemirror_mode": {
    "name": "ipython",
    "version": 3
   },
   "file_extension": ".py",
   "mimetype": "text/x-python",
   "name": "python",
   "nbconvert_exporter": "python",
   "pygments_lexer": "ipython3",
   "version": "3.9.21"
  }
 },
 "nbformat": 4,
 "nbformat_minor": 2
}
